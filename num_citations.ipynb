{
 "cells": [
  {
   "cell_type": "code",
   "execution_count": 32,
   "metadata": {},
   "outputs": [],
   "source": [
    "import requests\n",
    "import json \n",
    "from tqdm import tqdm\n",
    "\n",
    "token=\"your_token\""
   ]
  },
  {
   "cell_type": "code",
   "execution_count": 33,
   "metadata": {},
   "outputs": [],
   "source": [
    "def relevant_citations(impact_factor_year, bibcode):\n",
    "    payload = {\"bibcodes\": [bibcode],\n",
    "               \"types\": [\"histograms\"],\n",
    "              \"histograms\": [\"citations\"]}\n",
    "    response = requests.post(\"https://api.adsabs.harvard.edu/v1/metrics\", \\\n",
    "                           headers={'Authorization': 'Bearer ' + token, \n",
    "                                    \"Content-type\": \"application/json\"}, \\\n",
    "                           data=json.dumps(payload))\n",
    "    if response.status_code == 200:\n",
    "        try:\n",
    "            temp = response.json()\n",
    "            relevant_year = str(impact_factor_year - 1)\n",
    "            citations_histogram = temp.get('histograms', {}).get('citations', {})\n",
    "\n",
    "            if citations_histogram:\n",
    "                refereed_to_refereed = citations_histogram.get('refereed to refereed', {}).get(relevant_year, 0)\n",
    "                refereed_to_nonrefereed = citations_histogram.get('refereed to nonrefereed', {}).get(relevant_year, 0)\n",
    "                nonrefereed_to_refereed = citations_histogram.get('nonrefereed to refereed', {}).get(relevant_year, 0)\n",
    "                nonrefereed_to_nonrefereed = citations_histogram.get('nonrefereed to nonrefereed', {}).get(relevant_year, 0)\n",
    "                \n",
    "                num_relevant_citations = (\n",
    "                    refereed_to_refereed +\n",
    "                    refereed_to_nonrefereed +\n",
    "                    nonrefereed_to_refereed +\n",
    "                    nonrefereed_to_nonrefereed\n",
    "                )\n",
    "                \n",
    "                return [refereed_to_refereed, refereed_to_nonrefereed, nonrefereed_to_refereed, nonrefereed_to_nonrefereed, num_relevant_citations]\n",
    "            else:\n",
    "                print(f\"No citation data found for bibcode {bibcode}\")\n",
    "                return [0, 0, 0, 0, 0]\n",
    "        except json.JSONDecodeError as e:\n",
    "            print(f\"JSON decode error for bibcode {bibcode}: {e}\")\n",
    "            print(f\"Response text: {response.text}\")\n",
    "            return -1\n",
    "    else:\n",
    "        print(f\"Error {response.status_code} for bibcode {bibcode}: {response.text}\")\n",
    "        return -1    \n"
   ]
  },
  {
   "cell_type": "code",
   "execution_count": 34,
   "metadata": {},
   "outputs": [],
   "source": [
    "journal_name = 'enter_journal_bibstem_here'\n",
    "impact_factor_year = 2024"
   ]
  },
  {
   "cell_type": "code",
   "execution_count": 35,
   "metadata": {},
   "outputs": [],
   "source": [
    "# Load the bibcodes from the json file\n",
    "with open(f'{journal_name}/{journal_name}_bibcodes_{impact_factor_year}.json', 'r') as f:\n",
    "    bibcodes = json.load(f)"
   ]
  },
  {
   "cell_type": "code",
   "execution_count": 36,
   "metadata": {},
   "outputs": [
    {
     "data": {
      "text/plain": [
       "25"
      ]
     },
     "execution_count": 36,
     "metadata": {},
     "output_type": "execute_result"
    }
   ],
   "source": [
    "len(bibcodes)"
   ]
  },
  {
   "cell_type": "code",
   "execution_count": 37,
   "metadata": {},
   "outputs": [
    {
     "name": "stderr",
     "output_type": "stream",
     "text": [
      "100%|██████████| 25/25 [00:18<00:00,  1.34it/s]"
     ]
    },
    {
     "name": "stdout",
     "output_type": "stream",
     "text": [
      "Done!\n"
     ]
    },
    {
     "name": "stderr",
     "output_type": "stream",
     "text": [
      "\n"
     ]
    }
   ],
   "source": [
    "# Get the number of relevant citations for each bibcode\n",
    "relevant_citations_list = []\n",
    "start = 0\n",
    "for bibcode in tqdm(bibcodes[start:]):\n",
    "    num_relevant_citations = relevant_citations(impact_factor_year, bibcode)\n",
    "    if num_relevant_citations == -1:\n",
    "        break\n",
    "    relevant_citations_list.append([bibcode, num_relevant_citations])\n",
    "    \n",
    "# Dump the relevant citations to a json file\n",
    "with open(f'{journal_name}/temp/{journal_name}_relevant_citations_{impact_factor_year}_{start}.json', 'w') as f:\n",
    "    json.dump(relevant_citations_list, f)\n",
    "    \n",
    "print(\"Done!\")"
   ]
  },
  {
   "cell_type": "code",
   "execution_count": 38,
   "metadata": {},
   "outputs": [],
   "source": [
    "# with open(f'{journal_name}/temp/{journal_name}_relevant_citations_{impact_factor_year}_{start}.json', 'w') as f:\n",
    "#     json.dump(relevant_citations_list, f)\n",
    "    \n",
    "# print(\"Done!\")"
   ]
  },
  {
   "cell_type": "code",
   "execution_count": 39,
   "metadata": {},
   "outputs": [],
   "source": [
    "# relevant_citations_list[503]"
   ]
  },
  {
   "cell_type": "code",
   "execution_count": 40,
   "metadata": {},
   "outputs": [
    {
     "data": {
      "text/plain": [
       "'2022ARA&A..60..121R'"
      ]
     },
     "execution_count": 40,
     "metadata": {},
     "output_type": "execute_result"
    }
   ],
   "source": [
    "bibcodes[0]"
   ]
  },
  {
   "cell_type": "code",
   "execution_count": null,
   "metadata": {},
   "outputs": [],
   "source": []
  }
 ],
 "metadata": {
  "kernelspec": {
   "display_name": "Python 3",
   "language": "python",
   "name": "python3"
  },
  "language_info": {
   "codemirror_mode": {
    "name": "ipython",
    "version": 3
   },
   "file_extension": ".py",
   "mimetype": "text/x-python",
   "name": "python",
   "nbconvert_exporter": "python",
   "pygments_lexer": "ipython3",
   "version": "3.11.3"
  }
 },
 "nbformat": 4,
 "nbformat_minor": 2
}
