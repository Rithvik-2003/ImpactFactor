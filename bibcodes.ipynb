{
 "cells": [
  {
   "cell_type": "code",
   "execution_count": 33,
   "metadata": {},
   "outputs": [],
   "source": [
    "import requests\n",
    "import json \n",
    "from tqdm import tqdm\n",
    "\n",
    "token=\"your_token\""
   ]
  },
  {
   "cell_type": "code",
   "execution_count": 34,
   "metadata": {},
   "outputs": [],
   "source": [
    "def relevant_citations(impact_factor_year, bibcode):\n",
    "    payload = {\"bibcodes\": [bibcode],\n",
    "               \"types\": [\"histograms\"],\n",
    "              \"histograms\": [\"citations\"]}\n",
    "    response = requests.post(\"https://api.adsabs.harvard.edu/v1/metrics\", \\\n",
    "                           headers={'Authorization': 'Bearer ' + token, \n",
    "                                    \"Content-type\": \"application/json\"}, \\\n",
    "                           data=json.dumps(payload))\n",
    "    if response.status_code == 200:\n",
    "        try:\n",
    "            temp = response.json()\n",
    "            relevant_year = str(impact_factor_year - 1)\n",
    "            citations_histogram = temp.get('histograms', {}).get('citations', {})\n",
    "\n",
    "            if citations_histogram:\n",
    "                refereed_to_refereed = citations_histogram.get('refereed to refereed', {}).get(relevant_year, 0)\n",
    "                refereed_to_nonrefereed = citations_histogram.get('refereed to nonrefereed', {}).get(relevant_year, 0)\n",
    "                nonrefereed_to_refereed = citations_histogram.get('nonrefereed to refereed', {}).get(relevant_year, 0)\n",
    "                nonrefereed_to_nonrefereed = citations_histogram.get('nonrefereed to nonrefereed', {}).get(relevant_year, 0)\n",
    "                \n",
    "                num_relevant_citations = (\n",
    "                    refereed_to_refereed +\n",
    "                    refereed_to_nonrefereed +\n",
    "                    nonrefereed_to_refereed +\n",
    "                    nonrefereed_to_nonrefereed\n",
    "                )\n",
    "                \n",
    "                return num_relevant_citations\n",
    "            else:\n",
    "                print(f\"No citation data found for bibcode {bibcode}\")\n",
    "                return 0\n",
    "        except json.JSONDecodeError as e:\n",
    "            print(f\"JSON decode error for bibcode {bibcode}: {e}\")\n",
    "            print(f\"Response text: {response.text}\")\n",
    "            return 0\n",
    "    else:\n",
    "        print(f\"Error {response.status_code} for bibcode {bibcode}: {response.text}\")\n",
    "        return -1    "
   ]
  },
  {
   "cell_type": "code",
   "execution_count": 35,
   "metadata": {},
   "outputs": [],
   "source": [
    "def get_bibcodes(journal_name, impact_factor_year):\n",
    "    \n",
    "    headers = {\n",
    "        'Authorization': f'Bearer {token}',\n",
    "    }\n",
    "    relevant_year_1 = str(impact_factor_year-2)\n",
    "    relevant_year_2 = str(impact_factor_year-3)\n",
    "    \n",
    "    base_url = 'https://api.adsabs.harvard.edu/v1/search/query'\n",
    "    query = f'bibstem:{journal_name} AND year:({relevant_year_1} OR {relevant_year_2}) AND collection:astronomy'\n",
    "\n",
    "    rows = 2000  # Number of results per page\n",
    "    start = 0  # Starting index for the results\n",
    "    all_bibcodes = []\n",
    "\n",
    "    while True:\n",
    "        # Parameters for the API request\n",
    "        params = {\n",
    "            'q': query,\n",
    "            'fl': 'bibcode',\n",
    "            'rows': rows,\n",
    "            'start': start,\n",
    "        }\n",
    "\n",
    "        response = requests.get(base_url, headers=headers, params=params)\n",
    "\n",
    "        if response.status_code == 200:\n",
    "            data = response.json()\n",
    "            docs = data['response']['docs']\n",
    "\n",
    "            if not docs:\n",
    "                # No more results to fetch\n",
    "                break\n",
    "\n",
    "            # Extract bibcodes and add to the list\n",
    "            bibcodes = [doc['bibcode'] for doc in docs]\n",
    "            all_bibcodes.extend(bibcodes)\n",
    "\n",
    "            # Increment the starting index for the next page\n",
    "            start += rows\n",
    "        else:\n",
    "            print('Error:', response.status_code, response.text)\n",
    "            break\n",
    "    return all_bibcodes"
   ]
  },
  {
   "cell_type": "code",
   "execution_count": 36,
   "metadata": {},
   "outputs": [],
   "source": [
    "def get_refereed_bibcodes(journal_name, impact_factor_year):\n",
    "    \n",
    "    headers = {\n",
    "        'Authorization': f'Bearer {token}',\n",
    "    }\n",
    "    relevant_year_1 = str(impact_factor_year-2)\n",
    "    relevant_year_2 = str(impact_factor_year-3)\n",
    "    \n",
    "    base_url = 'https://api.adsabs.harvard.edu/v1/search/query'\n",
    "    query = f'bibstem:{journal_name} AND (year:({relevant_year_1} OR {relevant_year_2})) AND property:refereed AND collection:astronomy'\n",
    "\n",
    "    rows = 2000  # Number of results per page\n",
    "    start = 0  # Starting index for the results\n",
    "    all_bibcodes = []\n",
    "\n",
    "    while True:\n",
    "        # Parameters for the API request\n",
    "        params = {\n",
    "            'q': query,\n",
    "            'fl': 'bibcode',\n",
    "            'rows': rows,\n",
    "            'start': start,\n",
    "        }\n",
    "\n",
    "        response = requests.get(base_url, headers=headers, params=params)\n",
    "\n",
    "        if response.status_code == 200:\n",
    "            data = response.json()\n",
    "            docs = data['response']['docs']\n",
    "\n",
    "            if not docs:\n",
    "                # No more results to fetch\n",
    "                break\n",
    "\n",
    "            # Extract bibcodes and add to the list\n",
    "            bibcodes = [doc['bibcode'] for doc in docs]\n",
    "            all_bibcodes.extend(bibcodes)\n",
    "\n",
    "            # Increment the starting index for the next page\n",
    "            start += rows\n",
    "        else:\n",
    "            print('Error:', response.status_code, response.text)\n",
    "            break\n",
    "    return all_bibcodes"
   ]
  },
  {
   "cell_type": "code",
   "execution_count": 37,
   "metadata": {},
   "outputs": [],
   "source": [
    "journal_name = 'enter_journal_bibstem_here'\n",
    "impact_factor_year = 2024"
   ]
  },
  {
   "cell_type": "code",
   "execution_count": 38,
   "metadata": {},
   "outputs": [],
   "source": [
    "# Create the directory if it doesn't exist\n",
    "import os\n",
    "\n",
    "# os.makedirs(journal_name, exist_ok=True)\n",
    "\n",
    "# Write the file\n",
    "\n",
    "file_path = os.path.join(journal_name, f'{journal_name}_bibcodes_{impact_factor_year}.json')\n",
    "\n",
    "bibcodes = get_bibcodes(journal_name, impact_factor_year)\n",
    "with open(file_path, 'w') as f:\n",
    "    json.dump(bibcodes, f)"
   ]
  },
  {
   "cell_type": "code",
   "execution_count": 39,
   "metadata": {},
   "outputs": [
    {
     "data": {
      "text/plain": [
       "25"
      ]
     },
     "execution_count": 39,
     "metadata": {},
     "output_type": "execute_result"
    }
   ],
   "source": [
    "len(bibcodes)"
   ]
  },
  {
   "cell_type": "code",
   "execution_count": 40,
   "metadata": {},
   "outputs": [],
   "source": [
    "# Get the bibcodes for the journal and dump them to a json file\n",
    "refereed_bibcodes = get_refereed_bibcodes(journal_name, impact_factor_year)\n"
   ]
  },
  {
   "cell_type": "code",
   "execution_count": 41,
   "metadata": {},
   "outputs": [],
   "source": [
    "with open(f'{journal_name}/{journal_name}_refereed_bibcodes_{impact_factor_year}.json', 'w') as f:\n",
    "    json.dump(refereed_bibcodes, f)"
   ]
  },
  {
   "cell_type": "code",
   "execution_count": 42,
   "metadata": {},
   "outputs": [
    {
     "data": {
      "text/plain": [
       "25"
      ]
     },
     "execution_count": 42,
     "metadata": {},
     "output_type": "execute_result"
    }
   ],
   "source": [
    "len(refereed_bibcodes)"
   ]
  },
  {
   "cell_type": "code",
   "execution_count": null,
   "metadata": {},
   "outputs": [],
   "source": []
  },
  {
   "cell_type": "code",
   "execution_count": null,
   "metadata": {},
   "outputs": [],
   "source": []
  }
 ],
 "metadata": {
  "kernelspec": {
   "display_name": "Python 3",
   "language": "python",
   "name": "python3"
  },
  "language_info": {
   "codemirror_mode": {
    "name": "ipython",
    "version": 3
   },
   "file_extension": ".py",
   "mimetype": "text/x-python",
   "name": "python",
   "nbconvert_exporter": "python",
   "pygments_lexer": "ipython3",
   "version": "3.11.3"
  }
 },
 "nbformat": 4,
 "nbformat_minor": 2
}
