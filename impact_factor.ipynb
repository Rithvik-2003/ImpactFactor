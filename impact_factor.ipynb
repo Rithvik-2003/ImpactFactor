{
 "cells": [
  {
   "cell_type": "code",
   "execution_count": 1,
   "metadata": {},
   "outputs": [],
   "source": [
    "journal_name = 'enter-journal-name-here'\n",
    "impact_factor_year = 2024   "
   ]
  },
  {
   "cell_type": "code",
   "execution_count": 2,
   "metadata": {},
   "outputs": [
    {
     "name": "stdout",
     "output_type": "stream",
     "text": [
      "AN/temp/AN_relevant_citations_2024_0.json\n",
      "AN_relevant_citations_2024_0.json 90\n",
      "AN/temp/AN_relevant_citations_2024_90.json\n",
      "AN_relevant_citations_2024_90.json 238\n",
      "238\n"
     ]
    }
   ],
   "source": [
    "# Open all the json files in a folder and get the list of num_citations\n",
    "import os\n",
    "import json\n",
    "\n",
    "path = f'{journal_name}/temp/'\n",
    "\n",
    "files = os.listdir(path)\n",
    "\n",
    "num_citations = []\n",
    "\n",
    "for f in files:\n",
    "    if f.endswith('.json'):\n",
    "        with open(path + f, 'r') as file:\n",
    "            print(path+f)\n",
    "            num_citations += json.load(file)\n",
    "            print (f, len(num_citations))\n",
    "\n",
    "print(len(num_citations))"
   ]
  },
  {
   "cell_type": "code",
   "execution_count": 3,
   "metadata": {},
   "outputs": [],
   "source": [
    "# Save the list\n",
    "with open(f'{journal_name}/{journal_name}_relevant_citations_{impact_factor_year}.json', 'w') as f:\n",
    "    json.dump(num_citations, f)"
   ]
  },
  {
   "cell_type": "code",
   "execution_count": 4,
   "metadata": {},
   "outputs": [
    {
     "name": "stdout",
     "output_type": "stream",
     "text": [
      "238\n"
     ]
    }
   ],
   "source": [
    "# Load the list\n",
    "with open(f'{journal_name}/{journal_name}_relevant_citations_{impact_factor_year}.json', 'r') as f:\n",
    "    num_citations = json.load(f)\n",
    "with open(f'{journal_name}/{journal_name}_refereed_bibcodes_{impact_factor_year}.json', 'r') as f:\n",
    "    ref_citations = json.load(f)\n",
    "\n",
    "print(len(num_citations))\n",
    "total_citations = 0\n",
    "\n",
    "num_citations_og = num_citations.copy()\n",
    "num_citations.sort(key=lambda x: x[1][4])\n",
    "\n",
    "# Get the total number of citations\n",
    "# total_citations = 0\n",
    "# for i in num_citations:\n",
    "#     total_citations += (i[1][4])\n",
    "\n",
    "# Get the total number of citations using lambda function\n",
    "total_citations = sum([i[1][4] for i in num_citations])"
   ]
  },
  {
   "cell_type": "code",
   "execution_count": 5,
   "metadata": {},
   "outputs": [],
   "source": [
    "old_impact_factor = total_citations/len(ref_citations)\n",
    "\n",
    "if len(num_citations) % 2 == 0:\n",
    "    new_impact_factor = (num_citations[len(num_citations)//2][1][4] + num_citations[len(num_citations)//2 - 1][1][4])/2\n",
    "else:\n",
    "    new_impact_factor = num_citations[len(num_citations)//2][1][4]"
   ]
  },
  {
   "cell_type": "code",
   "execution_count": null,
   "metadata": {},
   "outputs": [],
   "source": [
    "old_impact_factor"
   ]
  },
  {
   "cell_type": "code",
   "execution_count": null,
   "metadata": {},
   "outputs": [],
   "source": [
    "new_impact_factor"
   ]
  },
  {
   "cell_type": "code",
   "execution_count": 8,
   "metadata": {},
   "outputs": [],
   "source": [
    "# Identify the outliers in the list wrt the median\n",
    "import numpy as np\n",
    "import matplotlib.pyplot as plt\n",
    "\n",
    "def outliers(num_citations):\n",
    "    citations = [i[1][4] for i in num_citations]\n",
    "    citations = np.array(citations)\n",
    "    q1 = np.percentile(citations, 25)\n",
    "    q3 = np.percentile(citations, 75)\n",
    "    iqr = q3 - q1\n",
    "    lower_bound = q1 - 1.5*iqr\n",
    "    upper_bound = q3 + 1.5*iqr\n",
    "\n",
    "    outliers = [i for i in num_citations if i[1][4] < lower_bound or i[1][4] > upper_bound]\n",
    "    # outliers = [i for i in num_citations if i[1][4] > upper_bound]\n",
    "    return outliers\n",
    "\n",
    "# # Plot the histogram of the citations\n",
    "# plt.hist(citations, bins=50)\n",
    "# plt.xlabel('Number of citations')\n",
    "# plt.ylabel('Number of papers')\n",
    "# plt.title('Histogram of citations')\n",
    "# plt.show()\n",
    "\n",
    "outliers = outliers(num_citations)"
   ]
  },
  {
   "cell_type": "code",
   "execution_count": null,
   "metadata": {},
   "outputs": [],
   "source": [
    "outliers"
   ]
  },
  {
   "cell_type": "code",
   "execution_count": null,
   "metadata": {},
   "outputs": [],
   "source": []
  }
 ],
 "metadata": {
  "kernelspec": {
   "display_name": "Python 3",
   "language": "python",
   "name": "python3"
  },
  "language_info": {
   "codemirror_mode": {
    "name": "ipython",
    "version": 3
   },
   "file_extension": ".py",
   "mimetype": "text/x-python",
   "name": "python",
   "nbconvert_exporter": "python",
   "pygments_lexer": "ipython3",
   "version": "3.11.3"
  }
 },
 "nbformat": 4,
 "nbformat_minor": 2
}
